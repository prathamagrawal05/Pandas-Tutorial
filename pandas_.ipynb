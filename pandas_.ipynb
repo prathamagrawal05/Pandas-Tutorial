{
  "nbformat": 4,
  "nbformat_minor": 0,
  "metadata": {
    "colab": {
      "name": "pandas .ipynb",
      "provenance": [],
      "collapsed_sections": []
    },
    "kernelspec": {
      "name": "python3",
      "display_name": "Python 3"
    },
    "language_info": {
      "name": "python"
    }
  },
  "cells": [
    {
      "cell_type": "markdown",
      "source": [
        "Pandas library work"
      ],
      "metadata": {
        "id": "fMAQI8ybNgcc"
      }
    },
    {
      "cell_type": "markdown",
      "source": [
        "Print Data\n"
      ],
      "metadata": {
        "id": "1R9JXzHknbdt"
      }
    },
    {
      "cell_type": "code",
      "source": [
        "import pandas as pd\n",
        "\n",
        "df = pd.read_csv('https://raw.githubusercontent.com/KeithGalli/pandas/master/pokemon_data.csv')\n",
        "\n",
        "# df_xlsx = pd.read_excel('https://github.com/KeithGalli/pandas/blob/master/pokemon_data.xlsx')\n",
        "\n",
        "# print(df_xlsx)\n",
        "\n",
        "# print(df)\n",
        "\n",
        "# print(df.head(4))\n",
        "\n",
        "# print(df.tail(2))"
      ],
      "metadata": {
        "id": "TVRr5zBSNJS5"
      },
      "execution_count": 2,
      "outputs": []
    },
    {
      "cell_type": "markdown",
      "source": [
        "print particular column , rows , read column and rows"
      ],
      "metadata": {
        "id": "pM7f7p4YngYK"
      }
    },
    {
      "cell_type": "code",
      "source": [
        "#colums\n",
        "# print(df.columns)\n",
        "\n",
        "# print(df.Name)\n",
        "\n",
        "# print(df[['Name','HP']])\n",
        "\n",
        "# print(df['Name'][0:5])\n",
        "\n",
        "#Rows\n",
        "# print(df.iloc[0:4])\n",
        "\n",
        "# print(df.iloc[3,1])\n",
        "\n",
        "# for index , rows in df.iterrows():\n",
        "#   print(index , rows['HP'])\n",
        "\n",
        "# df.loc[df['Type 1'] == 'Grass']\n"
      ],
      "metadata": {
        "id": "IwLJqAJVnvOK"
      },
      "execution_count": 3,
      "outputs": []
    },
    {
      "cell_type": "markdown",
      "source": [
        "Mean deviation etc"
      ],
      "metadata": {
        "id": "EUT-4ljmtrIt"
      }
    },
    {
      "cell_type": "code",
      "source": [
        "# df.describe()"
      ],
      "metadata": {
        "id": "9AfvoNbyty9e"
      },
      "execution_count": 4,
      "outputs": []
    },
    {
      "cell_type": "markdown",
      "source": [
        "Sorting"
      ],
      "metadata": {
        "id": "mleAHqIguRi3"
      }
    },
    {
      "cell_type": "code",
      "source": [
        "# #ascending\n",
        "# df.sort_values(['Name'])\n",
        "\n",
        "# #desending\n",
        "# df.sort_values(['Name'] , ascending = False)\n",
        "\n",
        "#more than 1 for sorting\n",
        "# df.sort_values(['Name' , 'HP'] , ascending = [False,True])"
      ],
      "metadata": {
        "id": "ZgTrizOUuWnV"
      },
      "execution_count": 5,
      "outputs": []
    },
    {
      "cell_type": "markdown",
      "source": [
        "Make Changes To Data"
      ],
      "metadata": {
        "id": "chb34GQKwIn4"
      }
    },
    {
      "cell_type": "code",
      "source": [
        "# df['Total'] = df['HP'] + df['Attack'] + df['Defense'] + df['Sp. Atk'] + df['Sp. Def'] + df['Speed']\n",
        "# df.head(5)"
      ],
      "metadata": {
        "id": "6N9WGWcjwMW1"
      },
      "execution_count": 6,
      "outputs": []
    },
    {
      "cell_type": "markdown",
      "source": [
        "Dropping a Column"
      ],
      "metadata": {
        "id": "i6NwdtkWxABw"
      }
    },
    {
      "cell_type": "code",
      "source": [
        "# df = df.drop(columns = ['HP'])\n",
        "\n",
        "# print(df.head(5))"
      ],
      "metadata": {
        "id": "1024xuLZxbxs"
      },
      "execution_count": 7,
      "outputs": []
    },
    {
      "cell_type": "markdown",
      "source": [
        "Rearranging Column (This can actually change the data)"
      ],
      "metadata": {
        "id": "dV0XAnvXySpF"
      }
    },
    {
      "cell_type": "code",
      "source": [
        "# cols = list(df.columns)\n",
        "# df = df[cols[0:4] + cols[-1:-2] + cols[4:10]]\n",
        "\n",
        "# df.head(5)"
      ],
      "metadata": {
        "id": "lNs5y62U0Yiw"
      },
      "execution_count": 8,
      "outputs": []
    },
    {
      "cell_type": "markdown",
      "source": [
        "Filltering out"
      ],
      "metadata": {
        "id": "fOSqHx904owB"
      }
    },
    {
      "cell_type": "code",
      "source": [
        "#Name containg Mega sting\n",
        "# df.loc[df['Name'].str.contains('Mega')]\n",
        "\n",
        "#Name not containg Mega String\n",
        "# df.loc[~df['Name'].str.contains('Mega')]\n"
      ],
      "metadata": {
        "id": "BLQWnOU74vZI"
      },
      "execution_count": 12,
      "outputs": []
    },
    {
      "cell_type": "markdown",
      "source": [
        "Filtering data at higher level"
      ],
      "metadata": {
        "id": "tuu_QrSk6RmB"
      }
    },
    {
      "cell_type": "code",
      "source": [
        "# import re\n",
        "# df.loc[df['Type 1'].str.contains('fire|glass' , flags=re.I , regex=True)]\n",
        "#in this above statement flag=re.I is used as fire and glass should not be case sensetive\n",
        "\n",
        "#in this downward statement it will show data in which it contains 'pi' string in name\n",
        "# df.loc[df['Name'].str.contains('pi' , flags=re.I , regex=True)]\n",
        "\n",
        "#in this downward statement it will show data which contain pi in starting of name , therefore '^' is used\n",
        "# df.loc[df['Name'].str.contains('^pi' , flags=re.I , regex=True)]\n",
        "\n"
      ],
      "metadata": {
        "id": "q6zzGiac6Y00"
      },
      "execution_count": 17,
      "outputs": []
    },
    {
      "cell_type": "markdown",
      "source": [
        "conditional filtering"
      ],
      "metadata": {
        "id": "spffWAYm-U5Z"
      }
    },
    {
      "cell_type": "code",
      "source": [
        "#it changes the data wherever the term 'fire' is there in 'type 1' column it will change to flames in \"type 1 \" column\n",
        "# df.loc[df['Type 1'] == 'Fire' , 'Type 1'] = 'Flames'\n",
        "# print(df)\n",
        "\n",
        "# df.loc[df['Type 1'] == 'Flames' , 'Type 1'] = 'Fire'\n",
        "# print(df)"
      ],
      "metadata": {
        "id": "-5inM9XT-hab"
      },
      "execution_count": 22,
      "outputs": []
    },
    {
      "cell_type": "markdown",
      "source": [
        "Aggregation"
      ],
      "metadata": {
        "id": "ZCw3NV_EA-qG"
      }
    },
    {
      "cell_type": "code",
      "source": [
        "#aggregation of type 1\n",
        "# df.groupby(['Type 1']).mean()\n",
        "\n",
        "#now we want desecding order of attack in aggregation of type 1\n",
        "# df.groupby(['Type 1']).mean().sort_values('Attack' , ascending = False)\n",
        "\n",
        "#counting of a particular data\n",
        "# df['count'] = 1\n",
        "# df.groupby(['Type 1' , 'Type 2']).count()['count']"
      ],
      "metadata": {
        "id": "mK8htNS6BKpd"
      },
      "execution_count": 34,
      "outputs": []
    }
  ]
}